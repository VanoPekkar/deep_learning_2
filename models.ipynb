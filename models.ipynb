{
 "cells": [
  {
   "cell_type": "code",
   "execution_count": 1,
   "metadata": {},
   "outputs": [
    {
     "name": "stdout",
     "output_type": "stream",
     "text": [
      "WARNING:tensorflow:From c:\\Users\\vanos\\anaconda3\\lib\\site-packages\\keras\\src\\losses.py:2976: The name tf.losses.sparse_softmax_cross_entropy is deprecated. Please use tf.compat.v1.losses.sparse_softmax_cross_entropy instead.\n",
      "\n"
     ]
    }
   ],
   "source": [
    "import pandas as pd\n",
    "import numpy as np\n",
    "import json\n",
    "from bs4 import BeautifulSoup\n",
    "import re\n",
    "import plotly.graph_objs as go\n",
    "import random\n",
    "\n",
    "from sklearn.manifold import TSNE\n",
    "from sklearn.metrics.pairwise import cosine_similarity\n",
    "from tqdm import trange, tqdm\n",
    "import pymorphy3\n",
    "from nltk.corpus import stopwords\n",
    "from gensim.utils import simple_preprocess\n",
    "from gensim.models.doc2vec import Doc2Vec, TaggedDocument\n",
    "from transformers import BertTokenizer, BertModel\n",
    "import pickle\n",
    "\n",
    "import warnings\n",
    "warnings.filterwarnings(\"ignore\", category=FutureWarning)"
   ]
  },
  {
   "cell_type": "code",
   "execution_count": 2,
   "metadata": {},
   "outputs": [
    {
     "name": "stderr",
     "output_type": "stream",
     "text": [
      "c:\\Users\\vanos\\anaconda3\\lib\\site-packages\\bs4\\__init__.py:435: MarkupResemblesLocatorWarning: The input looks more like a filename than markup. You may want to open this file and pass the filehandle into Beautiful Soup.\n",
      "  warnings.warn(\n"
     ]
    }
   ],
   "source": [
    "def clean_html(text):\n",
    "    if pd.isna(text):\n",
    "        return np.nan\n",
    "    soup = BeautifulSoup(text, \"html.parser\")\n",
    "    cleaned_text = soup.get_text(separator=\" \")\n",
    "    cleaned_text = cleaned_text.replace(\"\\r\", \" \").replace(\"\\n\", \" \")\n",
    "    cleaned_text = re.sub(r\"\\s+\", \" \", cleaned_text)\n",
    "    return cleaned_text.strip()\n",
    "\n",
    "hh_vacancy = pd.read_csv('datasets/hhparser_vacancy.csv')\n",
    "hh_vacancy[\"description\"] = hh_vacancy[\"description\"].apply(clean_html) \n",
    "vacancy_texts = hh_vacancy.apply(lambda row: f\"{row['name']}\\n{row['description']}\", axis=1).tolist()"
   ]
  },
  {
   "cell_type": "code",
   "execution_count": 3,
   "metadata": {},
   "outputs": [],
   "source": [
    "fields = [\n",
    "    'Ищет работу на должность:',\n",
    "    'Город, переезд, командировки',\n",
    "    'Занятость',\n",
    "    'Последнее/нынешнее место работы',\n",
    "    'Последняя/нынешняя должность',\n",
    "    'Образование и ВУЗ'\n",
    "]\n",
    "\n",
    "def create_job_text(row):\n",
    "    parts = []\n",
    "    for name in fields:\n",
    "        parts.append(f\"{name} {row[name]}\")\n",
    "    return \"; \".join(parts)\n",
    "\n",
    "hh_cv = pd.read_csv('datasets/dst-3.0_16_1_hh_database.csv', sep=';')\n",
    "cv_texts = hh_cv.apply(create_job_text, axis=1).tolist()"
   ]
  },
  {
   "cell_type": "code",
   "execution_count": 12,
   "metadata": {},
   "outputs": [],
   "source": [
    "def preprocess(text):\n",
    "    pattern = re.compile(\"[^а-яА-Яa-zA-Z0-9\\-.,;]+\")\n",
    "    sw = stopwords.words(\"russian\")\n",
    "    morph = pymorphy3.MorphAnalyzer()\n",
    "    text = text.lower()\n",
    "    text = pattern.sub(\" \", text)\n",
    "    tokens = simple_preprocess(text, deacc=True)\n",
    "    tokens = [\n",
    "        morph.parse(token)[0].normal_form\n",
    "        for token in tokens\n",
    "        if token not in sw and len(token) > 2\n",
    "    ]\n",
    "    return tokens"
   ]
  },
  {
   "cell_type": "code",
   "execution_count": 6,
   "metadata": {},
   "outputs": [],
   "source": [
    "tokenized_vacancy_texts = [preprocess(text) for text in vacancy_texts]\n",
    "tokenized_cv_texts = [preprocess(text) for text in cv_texts]\n",
    "train_corpus = tokenized_vacancy_texts + tokenized_cv_texts\n",
    "\n",
    "with open('job_descriptions_list.pkl', 'rb') as f:\n",
    "    job_descriptions_list = pickle.load(f)\n",
    "job_descriptions_list = [clean_html(doc) for doc in job_descriptions_list]\n",
    "with open('resume_descriptions_list.pkl', 'rb') as f:\n",
    "    resume_descriptions_list = pickle.load(f)\n",
    "\n",
    "labels = [[i] * 10 for i in range(10)]\n",
    "labels = list(np.array(labels).flatten())\n",
    "\n",
    "def precision(get_vector, desc, items, items_embs, labels, item_label):\n",
    "    desc_emb = get_vector(desc)\n",
    "    similarities = cosine_similarity([desc_emb], items_embs)[0]\n",
    "    ranked_items = [(item, similarity, l) for item, similarity, l in zip(items, similarities, labels)]\n",
    "    ranked_items.sort(key=lambda x: x[1], reverse=True)\n",
    "    ranked_labels = np.array([x[2] for x in ranked_items])\n",
    "    return (ranked_labels == item_label)\n",
    "\n",
    "def avg_precision(get_vector, n_top=np.arange(1, 11)):\n",
    "    items_embs = [get_vector(item) for item in resume_descriptions_list]\n",
    "    precisions = {i:[] for i in n_top}\n",
    "    for i in trange(100):\n",
    "        ts = precision(get_vector, job_descriptions_list[i], resume_descriptions_list, items_embs, labels, i // 10)\n",
    "        for k in n_top:\n",
    "            precisions[k] += [ts[:k].sum() / k]\n",
    "    return {k: sum(p) / 100 for k, p in precisions.items()}"
   ]
  },
  {
   "cell_type": "code",
   "execution_count": null,
   "metadata": {},
   "outputs": [],
   "source": [
    "from gensim.models import Word2Vec\n",
    "\n",
    "w2v = Word2Vec(sentences=train_corpus, vector_size=30, window=5, min_count=1, workers=4)\n",
    "\n",
    "def get_w2v_vector(text):\n",
    "    words = preprocess(text)\n",
    "    word_vectors = [w2v.wv[word] for word in words if word in w2v.wv]\n",
    "    if not word_vectors:\n",
    "        return np.zeros(w2v.vector_size)\n",
    "    return np.mean(word_vectors, axis=0)\n",
    "\n",
    "w2v_precision = avg_precision(get_w2v_vector)"
   ]
  },
  {
   "cell_type": "code",
   "execution_count": null,
   "metadata": {},
   "outputs": [],
   "source": [
    "from gensim.models.doc2vec import Doc2Vec, TaggedDocument\n",
    "from gensim.utils import simple_preprocess\n",
    "\n",
    "train_tagged = [TaggedDocument(words=doc, tags=[i]) for i, doc in enumerate(train_corpus)]\n",
    "\n",
    "d2v = Doc2Vec(vector_size=100, window=5, min_count=2, workers=4, epochs=40)\n",
    "d2v.build_vocab(train_tagged)\n",
    "d2v.train(train_tagged, total_examples=d2v.corpus_count, epochs=d2v.epochs)\n",
    "\n",
    "\n",
    "def get_d2v_vector(text):\n",
    "    doc = preprocess(text)\n",
    "    return d2v.infer_vector(doc)\n",
    "\n",
    "d2v_precision = avg_precision(get_d2v_vector)"
   ]
  },
  {
   "cell_type": "code",
   "execution_count": 78,
   "metadata": {},
   "outputs": [
    {
     "name": "stderr",
     "output_type": "stream",
     "text": [
      "100%|██████████| 100/100 [01:31<00:00,  1.10it/s]\n"
     ]
    }
   ],
   "source": [
    "from transformers import GPT2Model, GPT2Tokenizer\n",
    "\n",
    "tokenizer = GPT2Tokenizer.from_pretrained('ai-forever/rugpt3small_based_on_gpt2')\n",
    "model = GPT2Model.from_pretrained('ai-forever/rugpt3small_based_on_gpt2')\n",
    "\n",
    "def get_gpt2_vector(text):\n",
    "    inputs = tokenizer(text, return_tensors='pt', truncation=True, max_length=512)\n",
    "    outputs = model(**inputs)\n",
    "    return outputs.last_hidden_state.mean(axis=1).squeeze(0).detach().numpy()\n",
    "\n",
    "gpt2_precision = avg_precision(get_gpt2_vector)"
   ]
  },
  {
   "cell_type": "code",
   "execution_count": 91,
   "metadata": {},
   "outputs": [
    {
     "data": {
      "text/plain": [
       "Text(0, 0.5, 'map@k')"
      ]
     },
     "execution_count": 91,
     "metadata": {},
     "output_type": "execute_result"
    },
    {
     "data": {
      "image/png": "[encoded data removed]",
      "text/plain": [
       "<Figure size 640x480 with 1 Axes>"
      ]
     },
     "metadata": {},
     "output_type": "display_data"
    }
   ],
   "source": [
    "ax = pd.DataFrame({'d2v': d2v_precision, 'w2v': w2v_precision, 'gpt2': gpt2_precision}).plot(marker='o', grid=True)\n",
    "ax.set_xlabel('k')\n",
    "ax.set_ylabel('map@k')"
   ]
  },
  {
   "cell_type": "code",
   "execution_count": 90,
   "metadata": {},
   "outputs": [
    {
     "name": "stderr",
     "output_type": "stream",
     "text": [
      "100%|██████████| 1000/1000 [04:59<00:00,  3.34it/s]\n"
     ]
    }
   ],
   "source": [
    "cv_sample = random.sample(cv_texts, 1000)\n",
    "embs = [get_d2v_vector(item) for item in tqdm(cv_sample)]\n",
    "\n",
    "with open('d2v.pkl', 'wb') as f:\n",
    "    pickle.dump(d2v, f)\n",
    "\n",
    "with open('cv_sample.pkl', 'wb') as f:\n",
    "    pickle.dump(cv_sample, f)\n",
    "\n",
    "with open('embs.pkl', 'wb') as f:\n",
    "    pickle.dump(embs, f)"
   ]
  }
 ],
 "metadata": {
  "kernelspec": {
   "display_name": "base",
   "language": "python",
   "name": "python3"
  },
  "language_info": {
   "codemirror_mode": {
    "name": "ipython",
    "version": 3
   },
   "file_extension": ".py",
   "mimetype": "text/x-python",
   "name": "python",
   "nbconvert_exporter": "python",
   "pygments_lexer": "ipython3",
   "version": "3.9.12"
  }
 },
 "nbformat": 4,
 "nbformat_minor": 2
}
